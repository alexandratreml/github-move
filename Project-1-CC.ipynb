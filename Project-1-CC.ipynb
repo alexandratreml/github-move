{
 "cells": [
  {
   "cell_type": "markdown",
   "metadata": {},
   "source": [
    "<img src=\"http://imgur.com/1ZcRyrc.png\" style=\"float: left; margin: 20px; height: 55px\">\n",
    "\n",
    "# Project 1: Python Coding Exercises\n",
    "\n",
    "_Authors: Joseph Nelson (DC) _\n",
    "\n",
    "---"
   ]
  },
  {
   "cell_type": "markdown",
   "metadata": {},
   "source": [
    "The following code challenges are drawn from common exercises used in technical interviews.\n",
    "\n",
    "Please note that there may be several ways to approach each challenge. If you get stuck, try mapping out your approach in pseudocode first. Finally, while solutions to problems like these may be found online, remember that if you copy/paste code that you can't explain, you'll be missing out on the point of the project. The only way to truly learn a new skill is through practice, trial, and error - we can only help you improve by understanding where you are having trouble."
   ]
  },
  {
   "cell_type": "markdown",
   "metadata": {},
   "source": [
    "### Challenge 1: Largest Palindrome\n",
    "A palindromic number reads the same both ways. For example, 1234321 is a palindrome. The largest palindrome made from the product of two two-digit numbers is 9009 = 91 × 99. Find the largest palindrome made from the product of two three-digit numbers. Afterward, write a brief explanation walking through your code's logic in markdown."
   ]
  },
  {
   "cell_type": "code",
   "execution_count": 23,
   "metadata": {},
   "outputs": [
    {
     "name": "stdout",
     "output_type": "stream",
     "text": [
      "(913, 993)\n",
      "The largest palindrome from three digit numbers is 906609\n"
     ]
    }
   ],
   "source": [
    "# Lexa Treml\n",
    "# palindrome \n",
    "def palindrome(number: int):\n",
    "    if str(x*y) == str(x*y)[::-1]:\n",
    "        return(x,y)\n",
    "\n",
    "#from 100 to 999 (2 numbers), determine which numbers, when multipled together between 100 and 999 equal the product backwards\n",
    "palindrome_list = []\n",
    "values_list = []\n",
    "for x in range(100,1000):\n",
    "    for y in range(100,1000):\n",
    "        product = x*y\n",
    "        if palindrome(product):\n",
    "            values_list.append((x,y))\n",
    "            palindrome_list.append(product)\n",
    "#Now I have the lists of all the values and also a list of the products \n",
    "#Then, I find the max palindrome, disregarding the values\n",
    "yes_palindrome = palindrome_list.index(max(palindrome_list))\n",
    "#print x, y values of the largest palindrome\n",
    "print(values_list[yes_palindrome])\n",
    "#print product\n",
    "max_number = str(max(palindrome_list))\n",
    "print(\"The largest palindrome from three digit numbers is \" + max_number) "
   ]
  },
  {
   "cell_type": "markdown",
   "metadata": {},
   "source": [
    "LOGIC:\n",
    "First, I needed to make a function that makes sure that my number is the same read forwards or backwards. I did a method so that I could return both numbers. I also used int to make sure that they could be multipled and there were no decimals. \n",
    "Then I made a list for palindromes and a list for the possible values. I used a for loop and nested for loop for x and y values mutliped together. Then, if the product was a palindrome (i called the plaindrome method) i would append those x and y values to a list. \n",
    "\n",
    "Then, I had to determine which of these palindrones were the largest. I created a new variable called yes_palindrome and used the index and max commands to give me the largest value in the list of palindromes. \n",
    "\n",
    "Then, I converted it to a string to concatonate it with my print statement. \n"
   ]
  },
  {
   "cell_type": "markdown",
   "metadata": {},
   "source": [
    "\n",
    "### Challenge 2: Summation of Primes\n",
    "The sum of the primes below 10 is 2 + 3 + 5 + 7 = 17. Find the sum of all the primes below 2,000. Afterward, write a brief explanation walking through your code's logic in markdown."
   ]
  },
  {
   "cell_type": "code",
   "execution_count": 17,
   "metadata": {},
   "outputs": [
    {
     "name": "stdout",
     "output_type": "stream",
     "text": [
      "277050\n"
     ]
    }
   ],
   "source": [
    "#initialize a list of not prime numbers\n",
    "not_primes = []\n",
    "#make a list of all the numbers under 2000, starting with 2 \n",
    "all_numbers = list(range(2,2000))\n",
    "#iterate through all the numbers\n",
    "for num in all_numbers:\n",
    "    for i in all_numbers:\n",
    "        #if the number is not prime (it's evenly divisible) and the number is not only divisible by itself\n",
    "        if i % num == 0 and num != i:\n",
    "            #append these non-prime numbers to a list\n",
    "            not_primes.append(i)\n",
    "#filter out all the numbers in all_numbers that are not prime\n",
    "primes = filter(lambda i: i not in not_primes, all_numbers)\n",
    "#sum the numbers in primes list and print the total\n",
    "print(sum(primes))"
   ]
  },
  {
   "cell_type": "markdown",
   "metadata": {},
   "source": [
    "LOGIC: This one was tough for me because I wanted to use 2 lists, one for primes and one for not_primes, but I couldn't figure out how to remove items of one list from another list. \n",
    "\n",
    "I ended up using a lambda statement which worked well, though lambda statements are hard for me to read so I don't use them often. \n",
    "I started with an all_numbers list with the range so that I already had a list with numbers in it later on. Then I iterated through all the numbers and if they were not prime (had remainders and not itself) then I appended them to the not_prime list. Then, I used a lambda expression to filter out all the not_prime numbers from the all_numbers list. Lastly, I summed all the values in the primes list. "
   ]
  },
  {
   "cell_type": "markdown",
   "metadata": {},
   "source": [
    "I learned how to use \"set\" with this challenge as well! Below is the same challenge but without the use of the lambda expression. I tried over and over to use lists, and was very excited to find a secondary way to subtract a set of numbers from another. (Thanks, Greg!)\n"
   ]
  },
  {
   "cell_type": "code",
   "execution_count": null,
   "metadata": {},
   "outputs": [],
   "source": [
    "#initialize sets\n",
    "not_primes = set()\n",
    "all_numbers = set(range(2,2000))\n",
    "iterate through all numbers between 2 and 1999\n",
    "for num in all_numbers:\n",
    "    for i in all_numbers:\n",
    "        if i % num == 0 and num != i:\n",
    "            not_primes.add(i)\n",
    "primes = all_numbers - not_primes\n",
    "print(sum(primes))"
   ]
  },
  {
   "cell_type": "markdown",
   "metadata": {},
   "source": [
    "### Challenge 3: Multiples of 3 and 5\n",
    "If we list all of the natural numbers below 10 that are multiples of 3 or 5, we get 3, 5, 6, and 9. The sum of these multiples is 23. Find the sum of all the multiples of 3 and 5 below 1,000. Afterward, write a brief explanation walking through your code's logic in markdown."
   ]
  },
  {
   "cell_type": "code",
   "execution_count": 18,
   "metadata": {},
   "outputs": [
    {
     "name": "stdout",
     "output_type": "stream",
     "text": [
      "233168\n"
     ]
    }
   ],
   "source": [
    "#initialize multiples list\n",
    "multiples = []\n",
    "#iterate through all numbers up to 1000\n",
    "for i in range(1000):\n",
    "    #find multiples of 3 and 5 --> anything that when modulus has a remainder of 0\n",
    "    if i % 3 == 0 or i % 5 == 0:\n",
    "        #append all multiples of 3 and 5 to the multiples list \n",
    "        multiples.append(i)\n",
    "#print and sum this list \n",
    "print(sum(multiples))"
   ]
  },
  {
   "cell_type": "markdown",
   "metadata": {},
   "source": [
    "LOGIC: \n",
    "After initalizing a multiples list, I iterated through every number up to 1000. If a number was divisible by 3 or 5, I added it to a serpate list. Then I added all the values in this multiples list and printed it. "
   ]
  },
  {
   "cell_type": "markdown",
   "metadata": {},
   "source": [
    "### Challenge 4: String Compressor\n",
    "Implement a method to perform basic string compression using the counts of repeated characters. (This is called run-length encoding.) For example, the string \"aabcccccaaa\" would become a2b1c5a3. If the “compressed” string would not become smaller than the original string, your method should return the original string. You can assume the string has only uppercase and lowercase letters (a–z). Specify whether your solution is case sensitive or case insensitive and what you would need to change to make it the other. Afterward, write a brief explanation walking through your code's logic in markdown."
   ]
  },
  {
   "cell_type": "code",
   "execution_count": null,
   "metadata": {},
   "outputs": [],
   "source": [
    "def string_compression(string):\n",
    "        count = 1\n",
    "        compression = \"\"\n",
    "        for i in range(len(string)-1):\n",
    "            if string[i] == string[i+1]:\n",
    "                count +=1\n",
    "            else: \n",
    "                compression += string[i] + str(count)\n",
    "                count = 1 \n",
    "                \n",
    "        if string[len(string)-2] == string[len(string)-1]:\n",
    "            compression += string[i]+str(count) \n",
    "        else: \n",
    "            compression += string[-1] + str(1)       \n",
    "            return compression\n",
    "        \n",
    "        #if len(compression) >= len(string): \n",
    "            #return string\n",
    "        #else:\n",
    "            #return compression\n",
    "        \n",
    "string = input(\"Please input a string: \")     \n",
    "print(string_compression(string))\n"
   ]
  },
  {
   "cell_type": "markdown",
   "metadata": {},
   "source": [
    "LOGIC: \n",
    "    Alex and I worked through most of this one together after I had a code to group all the letters and count them, but not count each letter in a row. \n",
    "    I used a method to do the string_compression. The method works by taking the string that is inputted, starting a count so that if a letter is used, that instance is 1 time, and creating a compression string to output later. \n",
    "    I used a for loop to go through each letter until it gets to the end, then an if statement to add the times the same letter occurs, then add a string of how many times that letter occured in a row. \n",
    "    However, if the next letter is not the same as the last letter, then it will move on to the next letter and restart the count. \n",
    "    After that, we needed a code to satify the requirement that if you add a single letter at the end, the code won't just skip it. If you end with a repetition of the same letters, then the compression is those letters and their counts, However, if you have one letter at the end, add that letter to compression and then add a 1 (so it isnt skipped). \n",
    "    The next part is commented out because I couldn't get it to work with the previous if/else statement without it being skipped. It is supposed to make sure that if you enter an short string that cant be compressed, it outputs the original. I think it might work if I pass the compression and the string into a new method called something like def is_compression_bigger() but I couldn't get that to work.I also wanted to add in a .upper() somewhere, but wasn't sure where to put them all. Right now it is case insensitive. Even if I did put in .upper() or .lower() it would still be case insensitive. "
   ]
  },
  {
   "cell_type": "markdown",
   "metadata": {},
   "source": [
    "### *BONUS* Challenge: FizzBuzz\n",
    "Write a program that prints all of the numbers from 1 to 100. For multiples of 3, instead of the number, print \"Fizz;\" for multiples of 5, print \"Buzz.\" For numbers that are multiples of both 3 and 5, print \"FizzBuzz.\" Afterward, write a brief explanation walking through your code's logic in markdown."
   ]
  },
  {
   "cell_type": "code",
   "execution_count": 25,
   "metadata": {},
   "outputs": [
    {
     "name": "stdout",
     "output_type": "stream",
     "text": [
      "1\n",
      "2\n",
      "Fizz\n",
      "4\n",
      "Buzz\n",
      "Fizz\n",
      "7\n",
      "8\n",
      "Fizz\n",
      "Buzz\n",
      "11\n",
      "Fizz\n",
      "13\n",
      "14\n",
      "FizzBuzz\n",
      "16\n",
      "17\n",
      "Fizz\n",
      "19\n",
      "Buzz\n",
      "Fizz\n",
      "22\n",
      "23\n",
      "Fizz\n",
      "Buzz\n",
      "26\n",
      "Fizz\n",
      "28\n",
      "29\n",
      "FizzBuzz\n",
      "31\n",
      "32\n",
      "Fizz\n",
      "34\n",
      "Buzz\n",
      "Fizz\n",
      "37\n",
      "38\n",
      "Fizz\n",
      "Buzz\n",
      "41\n",
      "Fizz\n",
      "43\n",
      "44\n",
      "FizzBuzz\n",
      "46\n",
      "47\n",
      "Fizz\n",
      "49\n",
      "Buzz\n",
      "Fizz\n",
      "52\n",
      "53\n",
      "Fizz\n",
      "Buzz\n",
      "56\n",
      "Fizz\n",
      "58\n",
      "59\n",
      "FizzBuzz\n",
      "61\n",
      "62\n",
      "Fizz\n",
      "64\n",
      "Buzz\n",
      "Fizz\n",
      "67\n",
      "68\n",
      "Fizz\n",
      "Buzz\n",
      "71\n",
      "Fizz\n",
      "73\n",
      "74\n",
      "FizzBuzz\n",
      "76\n",
      "77\n",
      "Fizz\n",
      "79\n",
      "Buzz\n",
      "Fizz\n",
      "82\n",
      "83\n",
      "Fizz\n",
      "Buzz\n",
      "86\n",
      "Fizz\n",
      "88\n",
      "89\n",
      "FizzBuzz\n",
      "91\n",
      "92\n",
      "Fizz\n",
      "94\n",
      "Buzz\n",
      "Fizz\n",
      "97\n",
      "98\n",
      "Fizz\n"
     ]
    }
   ],
   "source": [
    "#prints all numbers from 1 to 100. for multiples of 3, print Fizz. For multiples of 5, print Buzz. For both, print FizzBuzz\n",
    "for i in range(1,100):\n",
    "    #prints number which has both 3 and 5 as multiples\n",
    "    if i % 3 == 0 and i % 5 == 0:\n",
    "        print(\"FizzBuzz\")\n",
    "    #prints number with 3 as a multiple\n",
    "    elif i % 3 == 0:\n",
    "        print(\"Fizz\")\n",
    "    #prints number with 5 as a multiple\n",
    "    elif i % 5 == 0:\n",
    "        print(\"Buzz\")\n",
    "    #prints all other numbers\n",
    "    else: \n",
    "        print (i)\n",
    "        \n",
    "\n",
    "    "
   ]
  },
  {
   "cell_type": "markdown",
   "metadata": {},
   "source": [
    "LOGIC: First, I used a for loop to print all the numbers from 1 to 100 (including 1 but not 100). Then I knew from Challenge #2 how to find multiples of 3 or 5. I used that code to say that if i mod 3 and i mod 5 returned 0, then whatever number that was had mutliples of both and should return FizzBuzz. Then I used elif statements to do i mod 3 and i mod 3 seperately. To print each number in between the multiples, I just printed i, which was the iterating number from 1 to 100. "
   ]
  }
 ],
 "metadata": {
  "anaconda-cloud": {},
  "kernelspec": {
   "display_name": "Python 3",
   "language": "python",
   "name": "python3"
  },
  "language_info": {
   "codemirror_mode": {
    "name": "ipython",
    "version": 3
   },
   "file_extension": ".py",
   "mimetype": "text/x-python",
   "name": "python",
   "nbconvert_exporter": "python",
   "pygments_lexer": "ipython3",
   "version": "3.8.3"
  }
 },
 "nbformat": 4,
 "nbformat_minor": 2
}
